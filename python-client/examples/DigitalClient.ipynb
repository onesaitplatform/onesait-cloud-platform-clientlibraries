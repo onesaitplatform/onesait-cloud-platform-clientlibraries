{
 "cells": [
  {
   "cell_type": "markdown",
   "metadata": {},
   "source": [
    "# Digital Client example"
   ]
  },
  {
   "cell_type": "markdown",
   "metadata": {},
   "source": [
    "## Create DigitalClient"
   ]
  },
  {
   "cell_type": "code",
   "execution_count": null,
   "metadata": {},
   "outputs": [],
   "source": [
    "import json\n",
    "from onesaitplatform.iotbroker import DigitalClient"
   ]
  },
  {
   "cell_type": "code",
   "execution_count": null,
   "metadata": {},
   "outputs": [],
   "source": [
    "HOST = \"lab.onesaitplatform.com\"\n",
    "PORT = 443\n",
    "IOT_CLIENT = \"testtest\"\n",
    "IOT_CLIENT_TOKEN = \"7320b00884ce4abfa06029017cb2472b\""
   ]
  },
  {
   "cell_type": "code",
   "execution_count": null,
   "metadata": {},
   "outputs": [],
   "source": [
    "client = DigitalClient(HOST, port=PORT, iot_client=IOT_CLIENT, iot_client_token=IOT_CLIENT_TOKEN)\n",
    "client.protocol = \"https\"\n",
    "client.avoid_ssl_certificate = True\n",
    "client.timeout = 10 * 1000\n",
    "client.proxies = {\n",
    "    \"http\": \"http://proxy.indra.es:8080\",\n",
    "    \"https\": \"http://proxy.indra.es:8080\"\n",
    "}"
   ]
  },
  {
   "cell_type": "code",
   "execution_count": null,
   "metadata": {},
   "outputs": [],
   "source": [
    "client.raise_exceptions = True"
   ]
  },
  {
   "cell_type": "markdown",
   "metadata": {},
   "source": [
    "## Join/ start connection"
   ]
  },
  {
   "cell_type": "code",
   "execution_count": null,
   "metadata": {},
   "outputs": [],
   "source": [
    "client.join()"
   ]
  },
  {
   "cell_type": "code",
   "execution_count": null,
   "metadata": {},
   "outputs": [],
   "source": [
    "client.debug_trace"
   ]
  },
  {
   "cell_type": "code",
   "execution_count": null,
   "metadata": {},
   "outputs": [],
   "source": [
    "client.leave()"
   ]
  },
  {
   "cell_type": "markdown",
   "metadata": {},
   "source": [
    "## Query data"
   ]
  },
  {
   "cell_type": "code",
   "execution_count": null,
   "metadata": {},
   "outputs": [],
   "source": [
    "query = \"select * from Restaurants limit 3\""
   ]
  },
  {
   "cell_type": "code",
   "execution_count": null,
   "metadata": {},
   "outputs": [],
   "source": [
    "ok_query, results_query = client.query(ontology=\"Restaurants\", query=query, query_type=\"SQL\")"
   ]
  },
  {
   "cell_type": "code",
   "execution_count": null,
   "metadata": {},
   "outputs": [],
   "source": [
    "raw_response = client.raw_query(ontology=\"Restaurants\", query=query, query_type=\"SQL\")\n",
    "raw_response"
   ]
  },
  {
   "cell_type": "code",
   "execution_count": null,
   "metadata": {},
   "outputs": [],
   "source": [
    "print(\"Query success: {}\".format(ok_query))\n",
    "print(\"Query results:\")\n",
    "for res in results_query:\n",
    "    print(res)\n",
    "    print(\"*\")"
   ]
  },
  {
   "cell_type": "markdown",
   "metadata": {},
   "source": [
    "## Query data in batch"
   ]
  },
  {
   "cell_type": "code",
   "execution_count": null,
   "metadata": {},
   "outputs": [],
   "source": [
    "query = \"db.Restaurants.find().limit(3)\""
   ]
  },
  {
   "cell_type": "code",
   "execution_count": null,
   "metadata": {},
   "outputs": [],
   "source": [
    "ok_query, results_query = client.query(ontology=\"Restaurants\", query=query, query_type=\"NATIVE\")"
   ]
  },
  {
   "cell_type": "code",
   "execution_count": null,
   "metadata": {},
   "outputs": [],
   "source": [
    "print(\"Query success: {}\".format(ok_query))\n",
    "print(\"Query results:\")\n",
    "for res in results_query:\n",
    "    print(res)\n",
    "    print(\"*\")"
   ]
  },
  {
   "cell_type": "code",
   "execution_count": null,
   "metadata": {},
   "outputs": [],
   "source": [
    "query_batch = \"select c from Restaurants as c\"\n",
    "ok_query, results_query = client.query_batch(ontology=\"Restaurants\", query=query_batch, query_type=\"SQL\", batch_size=50)"
   ]
  },
  {
   "cell_type": "code",
   "execution_count": null,
   "metadata": {},
   "outputs": [],
   "source": [
    "print(\"Query success: {}\".format(ok_query))\n",
    "print(\"Query results:\")\n",
    "for res in results_query:\n",
    "    print(res)\n",
    "    print(\"*\")"
   ]
  },
  {
   "cell_type": "code",
   "execution_count": null,
   "metadata": {},
   "outputs": [],
   "source": [
    "query_batch = \"db.Restaurants.find()\"\n",
    "ok_query, results_query = client.query_batch(ontology=\"Restaurants\", query=query_batch, query_type=\"NATIVE\", batch_size=50)"
   ]
  },
  {
   "cell_type": "code",
   "execution_count": null,
   "metadata": {},
   "outputs": [],
   "source": [
    "print(\"Query success: {}\".format(ok_query))\n",
    "print(\"Query results:\")\n",
    "for res in results_query:\n",
    "    print(res)\n",
    "    print(\"*\")"
   ]
  },
  {
   "cell_type": "markdown",
   "metadata": {},
   "source": [
    "## Insert data"
   ]
  },
  {
   "cell_type": "code",
   "execution_count": null,
   "metadata": {},
   "outputs": [],
   "source": [
    "new_restaurant = {\n",
    "    'Restaurant': {\n",
    "        'address': {\n",
    "            'building': '2780', \n",
    "            'coord': [-73.98241999999999, 40.579505], \n",
    "            'street': 'Stillwell Avenue', \n",
    "            'zipcode': '11224'\n",
    "        }, \n",
    "        'borough': 'Brooklyn', \n",
    "        'cuisine': 'Edu', \n",
    "        'grades': [\n",
    "            {'date': '2014-06-10T00:00:00Z', 'grade': 'A', 'score': 5}\n",
    "        ], \n",
    "        'name': 'Riviera Caterer 18', \n",
    "        'restaurant_id': '40356118'\n",
    "    }\n",
    "}\n",
    "\n",
    "new_restaurant_str = json.dumps(new_restaurant)\n",
    "new_restaurants = [new_restaurant]"
   ]
  },
  {
   "cell_type": "code",
   "execution_count": null,
   "metadata": {},
   "outputs": [],
   "source": [
    "ok_insert, res_insert = client.insert(\"Restaurants\", new_restaurants)\n",
    "print(ok_insert, res_insert)"
   ]
  },
  {
   "cell_type": "code",
   "execution_count": null,
   "metadata": {},
   "outputs": [],
   "source": [
    "client.debug_trace"
   ]
  },
  {
   "cell_type": "code",
   "execution_count": null,
   "metadata": {},
   "outputs": [],
   "source": [
    "raw_response = client.raw_insert(\"Restaurants\", new_restaurants)\n",
    "raw_response"
   ]
  },
  {
   "cell_type": "code",
   "execution_count": null,
   "metadata": {},
   "outputs": [],
   "source": [
    "raw_response.text"
   ]
  },
  {
   "cell_type": "markdown",
   "metadata": {},
   "source": [
    "# Update data"
   ]
  },
  {
   "cell_type": "code",
   "execution_count": null,
   "metadata": {},
   "outputs": [],
   "source": [
    "ontology = \"testtest\"\n",
    "query_update = \"db.testtest.update({'testtest.test':'test11'}, { $set:{'testtest.test':'test1'}})\"\n",
    "response_update = client.raw_update(ontology, query=query_update)\n",
    "print(response_update.status_code)\n",
    "if response_update.status_code == 200:\n",
    "    print(response_update.json())\n",
    "else:\n",
    "    print(response_update.text)"
   ]
  },
  {
   "cell_type": "code",
   "execution_count": null,
   "metadata": {},
   "outputs": [],
   "source": [
    "ontology = \"testtest\"\n",
    "data_update = {'testtest.test':'test1'}\n",
    "where_update = {'testtest.test':'test11'}\n",
    "ok_update, res_update = client.update(ontology, data=data_update, where=where_update, return_ids=True)\n",
    "print(res_update)\n",
    "print(ok_update)\n"
   ]
  },
  {
   "cell_type": "markdown",
   "metadata": {},
   "source": [
    "# Remove Data"
   ]
  },
  {
   "cell_type": "code",
   "execution_count": null,
   "metadata": {
    "scrolled": true
   },
   "outputs": [],
   "source": [
    "ontology = \"testclientontology\"\n",
    "entity_id = \"5e0f07097a5d0b000b723ffb\"\n",
    "response_raw_delete = client.raw_delete(ontology, entity_id, True)\n",
    "print(response_raw_delete.status_code)\n",
    "print(response_raw_delete.text)\n",
    "ok_delete, res_delete = client.delete(ontology, entity_id, True)\n",
    "print(ok_delete)\n",
    "print(res_delete)"
   ]
  }
 ],
 "metadata": {
  "kernelspec": {
   "display_name": "Python 3",
   "language": "python",
   "name": "python3"
  },
  "language_info": {
   "codemirror_mode": {
    "name": "ipython",
    "version": 3
   },
   "file_extension": ".py",
   "mimetype": "text/x-python",
   "name": "python",
   "nbconvert_exporter": "python",
   "pygments_lexer": "ipython3",
   "version": "3.7.3"
  }
 },
 "nbformat": 4,
 "nbformat_minor": 2
}
